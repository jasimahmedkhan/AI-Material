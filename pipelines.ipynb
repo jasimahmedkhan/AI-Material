{
 "cells": [
  {
   "cell_type": "code",
   "execution_count": 1,
   "source": [
    "from sklearn.datasets import load_iris\r\n",
    "from sklearn.model_selection import train_test_split\r\n",
    "from sklearn.preprocessing import StandardScaler\r\n",
    "from sklearn.decomposition import PCA\r\n",
    "from sklearn.pipeline import Pipeline\r\n",
    "import joblib\r\n",
    "from numpy import ravel\r\n",
    "import pandas as pd\r\n",
    "from sklearn.linear_model import LogisticRegression\r\n",
    "from sklearn.tree import DecisionTreeClassifier\r\n",
    "from sklearn.ensemble import RandomForestClassifier\r\n",
    "from sklearn.neighbors import KNeighborsClassifier # The k-nearest neighbor classifier\r\n",
    "from sklearn.feature_selection import VarianceThreshold # Feature selector\r\n",
    "# Various pre-processing steps\r\n",
    "from sklearn.preprocessing import Normalizer, StandardScaler, MinMaxScaler, PowerTransformer, MaxAbsScaler, LabelEncoder\r\n",
    "from sklearn.model_selection import GridSearchCV  # For optimization\r\n"
   ],
   "outputs": [],
   "metadata": {}
  },
  {
   "cell_type": "code",
   "execution_count": 2,
   "source": [
    "iris_df = load_iris()"
   ],
   "outputs": [],
   "metadata": {}
  },
  {
   "cell_type": "code",
   "execution_count": 17,
   "source": [
    "iris_df.data[:10]"
   ],
   "outputs": [
    {
     "output_type": "execute_result",
     "data": {
      "text/plain": [
       "array([[5.1, 3.5, 1.4, 0.2],\n",
       "       [4.9, 3. , 1.4, 0.2],\n",
       "       [4.7, 3.2, 1.3, 0.2],\n",
       "       [4.6, 3.1, 1.5, 0.2],\n",
       "       [5. , 3.6, 1.4, 0.2],\n",
       "       [5.4, 3.9, 1.7, 0.4],\n",
       "       [4.6, 3.4, 1.4, 0.3],\n",
       "       [5. , 3.4, 1.5, 0.2],\n",
       "       [4.4, 2.9, 1.4, 0.2],\n",
       "       [4.9, 3.1, 1.5, 0.1]])"
      ]
     },
     "metadata": {},
     "execution_count": 17
    }
   ],
   "metadata": {}
  },
  {
   "cell_type": "code",
   "execution_count": 4,
   "source": [
    "X_train, X_test, y_train, y_test = train_test_split(iris_df.data, iris_df.target, test_size=0.3, random_state=2)"
   ],
   "outputs": [],
   "metadata": {}
  },
  {
   "cell_type": "code",
   "execution_count": 5,
   "source": [
    "## Pipeline description\r\n",
    "# 1. Data Preprocessing by using Standard Scaler\r\n",
    "# 2. Reducing the dimesion of the PCA\r\n",
    "# 3. Apply Classifier"
   ],
   "outputs": [],
   "metadata": {}
  },
  {
   "cell_type": "code",
   "execution_count": 25,
   "source": [
    "\r\n",
    "pipeline_lr = Pipeline(steps=[(\"scalar1\", StandardScaler()),\r\n",
    "                              (\"pca1\", PCA(n_components=2)),\r\n",
    "                              (\"lr_classifier\", LogisticRegression())])\r\n"
   ],
   "outputs": [],
   "metadata": {}
  },
  {
   "cell_type": "code",
   "execution_count": 26,
   "source": [
    "pipeline_dt = Pipeline(steps=[(\"scaler2\", StandardScaler()),\r\n",
    "                              (\"pca2\", PCA(n_components=2)),\r\n",
    "                              (\"dt_classifier\", DecisionTreeClassifier())])\r\n"
   ],
   "outputs": [],
   "metadata": {}
  },
  {
   "cell_type": "code",
   "execution_count": 27,
   "source": [
    "pipeline_rf = Pipeline(steps=[(\"scaler3\", StandardScaler()), \r\n",
    "                              (\"pca3\", PCA(n_components=2)), \r\n",
    "                              (\"rf_classifier\", RandomForestClassifier())])\r\n"
   ],
   "outputs": [],
   "metadata": {}
  },
  {
   "cell_type": "code",
   "execution_count": 28,
   "source": [
    "pipelines = [pipeline_lr, pipeline_dt, pipeline_rf]"
   ],
   "outputs": [],
   "metadata": {}
  },
  {
   "cell_type": "code",
   "execution_count": 29,
   "source": [
    "best_accuracy   = 0.0\r\n",
    "best_classifier = 0\r\n",
    "best_pipeline   = \" \""
   ],
   "outputs": [],
   "metadata": {}
  },
  {
   "cell_type": "code",
   "execution_count": 31,
   "source": [
    "# Dictionary of pipelines and classifier types for ease of reference\r\n",
    "pipe_dict = {0: \"Logistic Regression\", 1: \"Decision Tree\", 2: \"Random Forest\"}\r\n",
    "\r\n",
    "# Fit the Pipeline\r\n",
    "for pipe in pipelines:\r\n",
    "    pipe.fit(X_train, y_train)"
   ],
   "outputs": [],
   "metadata": {}
  },
  {
   "cell_type": "code",
   "execution_count": 34,
   "source": [
    "for i, model in enumerate(pipelines):\r\n",
    "    print(\"{} Test Accuracy: {}\".format(pipe_dict[i], model.score(X_test, y_test)))"
   ],
   "outputs": [
    {
     "output_type": "stream",
     "name": "stdout",
     "text": [
      "Logistic Regression Test Accuracy: 0.9111111111111111\n",
      "Decision Tree Test Accuracy: 0.9333333333333333\n",
      "Random Forest Test Accuracy: 0.9333333333333333\n"
     ]
    }
   ],
   "metadata": {}
  },
  {
   "cell_type": "code",
   "execution_count": 39,
   "source": [
    "for i, model in enumerate(pipelines):\r\n",
    "    if model.score(X_test, y_test) > best_accuracy:\r\n",
    "        best_accuracy = model.score(X_test, y_test)\r\n",
    "        best_pipeline = model\r\n",
    "        best_classifier = i\r\n",
    "        \r\n",
    "print(\"Classifier with the best Accuracy: {}\".format(pipe_dict.get(best_classifier)))\r\n"
   ],
   "outputs": [
    {
     "output_type": "stream",
     "name": "stdout",
     "text": [
      "Classifier with the best Accuracy: Decision Tree\n"
     ]
    }
   ],
   "metadata": {}
  },
  {
   "cell_type": "code",
   "execution_count": null,
   "source": [],
   "outputs": [],
   "metadata": {}
  }
 ],
 "metadata": {
  "orig_nbformat": 4,
  "language_info": {
   "name": "python",
   "version": "3.7.10",
   "mimetype": "text/x-python",
   "codemirror_mode": {
    "name": "ipython",
    "version": 3
   },
   "pygments_lexer": "ipython3",
   "nbconvert_exporter": "python",
   "file_extension": ".py"
  },
  "kernelspec": {
   "name": "python3",
   "display_name": "Python 3.7.10 64-bit ('beamng': conda)"
  },
  "interpreter": {
   "hash": "5f006ca1e7b07a4469d28a15f4b49f6cd4001dfb127788cbd6b3b8ec08bd5d42"
  }
 },
 "nbformat": 4,
 "nbformat_minor": 2
}